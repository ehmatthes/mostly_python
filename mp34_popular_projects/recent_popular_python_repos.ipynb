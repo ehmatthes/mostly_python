{
 "cells": [
  {
   "cell_type": "markdown",
   "id": "6090838f",
   "metadata": {},
   "source": [
    "**Query:** What are the most popular Python repositories that have been created in the last year?"
   ]
  },
  {
   "cell_type": "code",
   "execution_count": 1,
   "id": "cc12066f",
   "metadata": {},
   "outputs": [
    {
     "ename": "ModuleNotFoundError",
     "evalue": "No module named 'requests'",
     "output_type": "error",
     "traceback": [
      "\u001b[0;31m---------------------------------------------------------------------------\u001b[0m",
      "\u001b[0;31mModuleNotFoundError\u001b[0m                       Traceback (most recent call last)",
      "Cell \u001b[0;32mIn[1], line 1\u001b[0m\n\u001b[0;32m----> 1\u001b[0m \u001b[38;5;28;01mimport\u001b[39;00m \u001b[38;5;21;01mrequests\u001b[39;00m\n\u001b[1;32m      3\u001b[0m \u001b[38;5;66;03m# Define headers.\u001b[39;00m\n\u001b[1;32m      4\u001b[0m headers \u001b[38;5;241m=\u001b[39m {\n\u001b[1;32m      5\u001b[0m     \u001b[38;5;124m\"\u001b[39m\u001b[38;5;124mAccept\u001b[39m\u001b[38;5;124m\"\u001b[39m: \u001b[38;5;124m\"\u001b[39m\u001b[38;5;124mapplication/vnd.github+json\u001b[39m\u001b[38;5;124m\"\u001b[39m,\n\u001b[1;32m      6\u001b[0m     \u001b[38;5;124m\"\u001b[39m\u001b[38;5;124mX-GitHub-Api-Version\u001b[39m\u001b[38;5;124m\"\u001b[39m : \u001b[38;5;124m\"\u001b[39m\u001b[38;5;124m2022-11-28\u001b[39m\u001b[38;5;124m\"\u001b[39m,\n\u001b[1;32m      7\u001b[0m     }\n",
      "\u001b[0;31mModuleNotFoundError\u001b[0m: No module named 'requests'"
     ]
    }
   ],
   "source": [
    "import requests\n",
    "\n",
    "# Define headers.\n",
    "headers = {\n",
    "    \"Accept\": \"application/vnd.github+json\",\n",
    "    \"X-GitHub-Api-Version\" : \"2022-11-28\",\n",
    "    }"
   ]
  },
  {
   "cell_type": "code",
   "execution_count": null,
   "id": "0bc097b1",
   "metadata": {},
   "outputs": [],
   "source": [
    "def run_query(url):\n",
    "    \"\"\"Run a query, and return list of repo dicts.\"\"\"\n",
    "    print(f\"Query URL: {url}\")\n",
    "    r = requests.get(url, headers=headers)\n",
    "    print(f\"Status code: {r.status_code}\")\n",
    "\n",
    "    # Convert the response object to a dictionary.\n",
    "    response_dict = r.json()\n",
    "\n",
    "    # Show basic information about the query results.\n",
    "    print(f\"Total repositories: {response_dict['total_count']}\")\n",
    "    \n",
    "    complete_results = not response_dict['incomplete_results']\n",
    "    print(f\"Complete results: {complete_results}\")\n",
    "    \n",
    "    # Pull the dictionaries for each repository returned.\n",
    "    repo_dicts = response_dict['items']\n",
    "    print(f\"Repositories returned: {len(repo_dicts)}\")\n",
    "    \n",
    "    return repo_dicts"
   ]
  },
  {
   "cell_type": "code",
   "execution_count": null,
   "id": "d33bf99f",
   "metadata": {},
   "outputs": [],
   "source": [
    "def summarize_repos(repos):\n",
    "    \"\"\"Summarize a set of repositories.\"\"\"\n",
    "    for repo in repos:\n",
    "        name = repo['name']\n",
    "        stars = repo['stargazers_count']\n",
    "        owner = repo['owner']['login']\n",
    "        description = repo['description']\n",
    "        link = repo['html_url']\n",
    "        \n",
    "        print(f\"\\nRepository: {name} ({stars})\")\n",
    "        print(f\"  Owner: {owner}\")\n",
    "        print(f\"  Description: {description}\")\n",
    "        print(f\"  Repository: {link}\")"
   ]
  },
  {
   "cell_type": "code",
   "execution_count": null,
   "id": "e849a2dc",
   "metadata": {
    "scrolled": true
   },
   "outputs": [],
   "source": [
    "url = \"https://api.github.com/search/repositories\"\n",
    "url += \"?q=language:python+stars:>1000\"\n",
    "url += \"+created:2022-06-01..2023-06-01\"\n",
    "url += \"&sort=stars&order=desc\"\n",
    "\n",
    "repo_dicts = run_query(url)\n",
    "summarize_repos(repo_dicts)"
   ]
  },
  {
   "cell_type": "markdown",
   "id": "d0103b08",
   "metadata": {},
   "source": [
    "**Query:** What are the most popular Python repositories that have been created in the last year, that aren't focused on AI?"
   ]
  },
  {
   "cell_type": "code",
   "execution_count": null,
   "id": "1fd26e5c",
   "metadata": {},
   "outputs": [],
   "source": [
    "url = \"https://api.github.com/search/repositories\"\n",
    "url += \"?q=language:python+stars:>1000\"\n",
    "url += \"+NOT+gpt+NOT+llama+NOT+chat+NOT+llm+NOT+diffusion\"\n",
    "url += \"+created:2022-06-01..2023-06-01\"\n",
    "url += \"&sort=stars&order=desc\"\n",
    "\n",
    "repo_dicts = run_query(url)\n",
    "summarize_repos(repo_dicts)"
   ]
  },
  {
   "cell_type": "markdown",
   "id": "b72bc4ac",
   "metadata": {},
   "source": [
    "Filter even more AI-related posts."
   ]
  },
  {
   "cell_type": "code",
   "execution_count": null,
   "id": "eecc1e21",
   "metadata": {},
   "outputs": [],
   "source": [
    "def prune_repos(repos):\n",
    "    \"\"\"Return only non AI-related repos.\"\"\"\n",
    "    ai_terms = [\n",
    "        'gpt', 'llama', 'chat', 'llm', 'diffusion', 'alpaca',\n",
    "        ' ai', 'ai ', 'ai-', '-ai', 'openai', 'whisper',\n",
    "        'rlhf', 'language model', 'langchain', 'transformer', 'gpu',\n",
    "        'copilot', 'deep', 'embedding', 'model', 'pytorch',\n",
    "    ]\n",
    "    \n",
    "    non_ai_repos = []\n",
    "    for repo in repos:\n",
    "        # Check for ai terms in name, owner, and description.\n",
    "        name = repo['name'].lower()\n",
    "        if any(ai_term in name for ai_term in ai_terms):\n",
    "            continue\n",
    "            \n",
    "        owner = repo['owner']['login'].lower()\n",
    "        if any(ai_term in owner for ai_term in ai_terms):\n",
    "            continue\n",
    "        \n",
    "        #  Prune repos that don't have a description.\n",
    "        if not repo['description']:\n",
    "            continue\n",
    "\n",
    "        description = repo['description'].lower()\n",
    "        if any(ai_term in description for ai_term in ai_terms):\n",
    "            continue\n",
    "        \n",
    "        non_ai_repos.append(repo)\n",
    "    \n",
    "    print(f\"Keeping {len(non_ai_repos)} of {len(repos)} repos.\")\n",
    "    return non_ai_repos"
   ]
  },
  {
   "cell_type": "code",
   "execution_count": null,
   "id": "6e4124ff",
   "metadata": {
    "scrolled": true
   },
   "outputs": [],
   "source": [
    "pruned_repos = prune_repos(repo_dicts)\n",
    "summarize_repos(pruned_repos)"
   ]
  },
  {
   "cell_type": "markdown",
   "id": "1eff8c8c",
   "metadata": {},
   "source": [
    "Start with 100 repo dicts before pruning."
   ]
  },
  {
   "cell_type": "code",
   "execution_count": null,
   "id": "4e13d461",
   "metadata": {
    "scrolled": false
   },
   "outputs": [],
   "source": [
    "url = \"https://api.github.com/search/repositories\"\n",
    "url += \"?q=language:python+stars:>1000\"\n",
    "url += \"+NOT+gpt+NOT+llama+NOT+chat+NOT+llm+NOT+diffusion\"\n",
    "url += \"+created:2022-06-01..2023-06-01\"\n",
    "url += \"&sort=stars&order=desc\"\n",
    "url += \"&per_page=100&page=1\"\n",
    "\n",
    "repo_dicts = run_query(url)\n",
    "pruned_repos = prune_repos(repo_dicts)\n",
    "summarize_repos(pruned_repos)"
   ]
  }
 ],
 "metadata": {
  "kernelspec": {
   "display_name": "Python 3 (ipykernel)",
   "language": "python",
   "name": "python3"
  },
  "language_info": {
   "codemirror_mode": {
    "name": "ipython",
    "version": 3
   },
   "file_extension": ".py",
   "mimetype": "text/x-python",
   "name": "python",
   "nbconvert_exporter": "python",
   "pygments_lexer": "ipython3",
   "version": "3.11.2"
  }
 },
 "nbformat": 4,
 "nbformat_minor": 5
}
